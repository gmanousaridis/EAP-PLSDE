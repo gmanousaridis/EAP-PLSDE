{
 "cells": [
  {
   "cell_type": "code",
   "execution_count": 1,
   "id": "3598a1e7",
   "metadata": {},
   "outputs": [],
   "source": [
    "import pandas as pd\n",
    "import graphviz\n",
    "import pydotplus\n",
    "import collections\n",
    "from sklearn import tree\n",
    "from sklearn.datasets import load_iris\n",
    "import matplotlib.pyplot as plt"
   ]
  },
  {
   "cell_type": "code",
   "execution_count": 2,
   "id": "e28fd8ea",
   "metadata": {},
   "outputs": [],
   "source": [
    "def gini_to_alpha(gini):\n",
    "    if gini == '':\n",
    "        alpha = 0\n",
    "    else:\n",
    "        alpha = 1 - 2 * float(gini)\n",
    "    # Scale the float to an integer (0-255)\n",
    "    if alpha < 0.0:\n",
    "        alpha = 0.0\n",
    "    elif alpha > 1.0:\n",
    "        alpha = 1.0\n",
    "\n",
    "    # Convert to hexadecimal and ensure it's two digits\n",
    "    hex_value = format(int(alpha * 255), '02x')\n",
    "    \n",
    "    return hex_value"
   ]
  },
  {
   "cell_type": "code",
   "execution_count": 3,
   "id": "cf965693",
   "metadata": {},
   "outputs": [],
   "source": [
    "df = pd.read_csv(\"../fire_data_train.csv\")"
   ]
  },
  {
   "cell_type": "code",
   "execution_count": 4,
   "id": "2b349a45",
   "metadata": {},
   "outputs": [],
   "source": [
    "features = ['dom_vel', 'dom_dir', 'max_temp', 'min_temp',\n",
    "            'mean_temp', 'rain_7_days', 'ndvi', 'lst_day', 'slope', 'dem',\n",
    "            'corine_gr1', 'corine_gr4', 'corine_gr5', 'corine_gr21', 'corine_gr22',\n",
    "            'corine_gr23', 'corine_gr24', 'corine_gr31', 'corine_gr32',\n",
    "            'corine_gr33']\n",
    "X = df[features]\n",
    "y = df['fire']\n",
    "\n",
    "clf = tree.DecisionTreeClassifier(max_depth = 2, random_state = 42)\n",
    "clf = clf.fit(X, y)"
   ]
  },
  {
   "cell_type": "code",
   "execution_count": 5,
   "id": "9e0f0ffb",
   "metadata": {},
   "outputs": [
    {
     "data": {
      "text/plain": [
       "True"
      ]
     },
     "execution_count": 5,
     "metadata": {},
     "output_type": "execute_result"
    }
   ],
   "source": [
    "dot_data = tree.export_graphviz(clf,\n",
    "                                class_names = ['no-fire', 'fire'],\n",
    "                                feature_names = features,\n",
    "                                out_file = None,\n",
    "                                node_ids = True,\n",
    "                                proportion = True,\n",
    "                                filled = True,\n",
    "                                special_characters = True,\n",
    "                                rounded = True)\n",
    "\n",
    "graph = pydotplus.graph_from_dot_data(dot_data)\n",
    "\n",
    "colors = ('#1792EA', '#E86E17')\n",
    "edges = collections.defaultdict(list)\n",
    "\n",
    "for edge in graph.get_edge_list():\n",
    "    edges[edge.get_source()].append(int(edge.get_destination()))\n",
    "\n",
    "for edge in edges:\n",
    "    edges[edge].sort()    \n",
    "    for i in range(2):\n",
    "        dest = graph.get_node(str(edges[edge][i]))[0]\n",
    "        gini = dest.get_attributes()['label'].partition('gini = ')[2].partition('<br/>samples')[0]\n",
    "        dest.set_fillcolor(colors[i]+gini_to_alpha(gini))\n",
    "\n",
    "graph.write_png('tree.png')"
   ]
  },
  {
   "cell_type": "code",
   "execution_count": null,
   "id": "90983147",
   "metadata": {},
   "outputs": [],
   "source": []
  }
 ],
 "metadata": {
  "kernelspec": {
   "display_name": "Python 3 (ipykernel)",
   "language": "python",
   "name": "python3"
  },
  "language_info": {
   "codemirror_mode": {
    "name": "ipython",
    "version": 3
   },
   "file_extension": ".py",
   "mimetype": "text/x-python",
   "name": "python",
   "nbconvert_exporter": "python",
   "pygments_lexer": "ipython3",
   "version": "3.9.19"
  }
 },
 "nbformat": 4,
 "nbformat_minor": 5
}
