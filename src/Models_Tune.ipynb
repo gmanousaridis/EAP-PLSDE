{
 "cells": [
  {
   "cell_type": "markdown",
   "id": "9145f51b",
   "metadata": {},
   "source": [
    "# Models Tune\n",
    "In this notebook we tune the hyperparameters of the **Random Forest** and the **XGBoost Classifiers** with the **Random Search** Technique following the **K-Fold Cross Validation** procedure on a 80%-20% splitted dataset. Check utilities in wfml class for more info."
   ]
  },
  {
   "cell_type": "code",
   "execution_count": 1,
   "id": "1ea9dfe3",
   "metadata": {},
   "outputs": [],
   "source": [
    "import import_ipynb\n",
    "from ipynb.fs.full.WFML_Utilities import wfml"
   ]
  },
  {
   "cell_type": "markdown",
   "id": "e794c740",
   "metadata": {},
   "source": [
    "## XGBoost"
   ]
  },
  {
   "cell_type": "code",
   "execution_count": 2,
   "id": "8246e488",
   "metadata": {},
   "outputs": [
    {
     "name": "stdout",
     "output_type": "stream",
     "text": [
      "\n",
      "cv =  5\n",
      "Fitting 5 folds for each of 5 candidates, totalling 25 fits\n",
      "Elapsed Time: 00:01:15\n",
      "====================\n",
      "Best Score: 0.990\n",
      "Best Parameters: {'subsample': 1, 'scale_pos_weight': 80, 'n_estimators': 120, 'max_depth': 56, 'lambda': 35, 'gamma': 0.1, 'alpha': 20}\n",
      "Fold 5 completed in 75.71 seconds.\n",
      "\n",
      "cv =  10\n",
      "Fitting 10 folds for each of 10 candidates, totalling 100 fits\n",
      "Elapsed Time: 00:05:33\n",
      "====================\n",
      "Best Score: 0.991\n",
      "Best Parameters: {'subsample': 1, 'scale_pos_weight': 100, 'n_estimators': 280, 'max_depth': 34, 'lambda': 30, 'gamma': 1, 'alpha': 10}\n",
      "Fold 10 completed in 333.07 seconds.\n"
     ]
    }
   ],
   "source": [
    "wfml.hyperparameter_tune(\n",
    "    n_jobs        = 2, #Carefull not to exhaust the CPU - Check underlying infra capability\n",
    "    classifier    = 'XGB',\n",
    "    cv_dimensions = [5, 10],\n",
    "    parameters    = { #Latest Optimization\n",
    "        'max_depth' : range(30, 60, 2),\n",
    "        'n_estimators' :[120, 160, 200, 240, 280],\n",
    "        'subsample': [1],\n",
    "        'alpha' : [5, 10, 20],\n",
    "        'gamma' : [0.01, 0.1, 1],\n",
    "        'lambda' : range(20, 40, 5),\n",
    "        'scale_pos_weight': [80, 100, 120]\n",
    "})"
   ]
  },
  {
   "cell_type": "markdown",
   "id": "e4ce1c77",
   "metadata": {},
   "source": [
    "## Random Forest"
   ]
  },
  {
   "cell_type": "code",
   "execution_count": 3,
   "id": "c1fb28a6",
   "metadata": {},
   "outputs": [
    {
     "name": "stdout",
     "output_type": "stream",
     "text": [
      "\n",
      "cv =  5\n",
      "Fitting 5 folds for each of 5 candidates, totalling 25 fits\n",
      "Elapsed Time: 00:20:54\n",
      "====================\n",
      "Best Score: 0.991\n",
      "Best Parameters: {'n_estimators': 300, 'min_samples_split': 2, 'min_samples_leaf': 30, 'max_features': 12, 'max_depth': 100, 'criterion': 'gini', 'class_weight': {0: 1, 1: 9}, 'bootstrap': False}\n",
      "Fold 5 completed in 1254.79 seconds.\n",
      "\n",
      "cv =  10\n",
      "Fitting 10 folds for each of 10 candidates, totalling 100 fits\n",
      "Elapsed Time: 01:12:58\n",
      "====================\n",
      "Best Score: 0.992\n",
      "Best Parameters: {'n_estimators': 250, 'min_samples_split': 8, 'min_samples_leaf': 30, 'max_features': 12, 'max_depth': 50, 'criterion': 'gini', 'class_weight': {0: 1, 1: 9}, 'bootstrap': False}\n",
      "Fold 10 completed in 4378.75 seconds.\n"
     ]
    }
   ],
   "source": [
    "wfml.hyperparameter_tune(\n",
    "    n_jobs        = 2, #Carefull not to exhaust the CPU - Check underlying infra capability\n",
    "    classifier    = 'RF',\n",
    "    cv_dimensions = [5, 10],\n",
    "    parameters    = { #Latest Optimization\n",
    "        \"max_depth\": [50, 100],\n",
    "        \"n_estimators\": [250, 300, 400],\n",
    "        \"min_samples_split\": [2, 4, 8],\n",
    "        \"min_samples_leaf\": [10, 30],\n",
    "        \"criterion\": [\"gini\", \"entropy\"],\n",
    "        \"max_features\": [12, 20],\n",
    "        \"bootstrap\": [True, False],\n",
    "        \"class_weight\": [{0: 1, 1: 9}]\n",
    "})"
   ]
  },
  {
   "cell_type": "code",
   "execution_count": null,
   "id": "e7c98659",
   "metadata": {},
   "outputs": [],
   "source": []
  }
 ],
 "metadata": {
  "kernelspec": {
   "display_name": "Python 3 (ipykernel)",
   "language": "python",
   "name": "python3"
  },
  "language_info": {
   "codemirror_mode": {
    "name": "ipython",
    "version": 3
   },
   "file_extension": ".py",
   "mimetype": "text/x-python",
   "name": "python",
   "nbconvert_exporter": "python",
   "pygments_lexer": "ipython3",
   "version": "3.9.19"
  }
 },
 "nbformat": 4,
 "nbformat_minor": 5
}
